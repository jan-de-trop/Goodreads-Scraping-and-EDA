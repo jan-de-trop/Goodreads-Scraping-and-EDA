{
  "nbformat": 4,
  "nbformat_minor": 0,
  "metadata": {
    "colab": {
      "name": "Goodreads Analysis.ipynb",
      "provenance": [],
      "toc_visible": true,
      "authorship_tag": "ABX9TyP+FI/BTFriU8GyupaRc1+y",
      "include_colab_link": true
    },
    "kernelspec": {
      "name": "python3",
      "display_name": "Python 3"
    }
  },
  "cells": [
    {
      "cell_type": "markdown",
      "metadata": {
        "id": "view-in-github",
        "colab_type": "text"
      },
      "source": [
        "<a href=\"https://colab.research.google.com/github/jan-de-trop/Goodreads-Scraping-and-EDA/blob/main/Goodreads_Analysis.ipynb\" target=\"_parent\"><img src=\"https://colab.research.google.com/assets/colab-badge.svg\" alt=\"Open In Colab\"/></a>"
      ]
    },
    {
      "cell_type": "markdown",
      "metadata": {
        "id": "HM7erwBroEtC"
      },
      "source": [
        "## Goodreads Best Books Ever Analysis"
      ]
    },
    {
      "cell_type": "markdown",
      "metadata": {
        "id": "3iFVln1CoXJy"
      },
      "source": [
        "### Importing Libraries"
      ]
    },
    {
      "cell_type": "code",
      "metadata": {
        "id": "tYgnhHpUoLCo"
      },
      "source": [
        "#Import libraries\r\n",
        "%matplotlib inline\r\n",
        "import numpy as np\r\n",
        "import matplotlib.pyplot as plt\r\n",
        "import pandas as pd\r\n",
        "import re\r\n",
        "import time, requests\r\n",
        "import seaborn as sns\r\n",
        "pd.set_option('display.width', 500)\r\n",
        "pd.set_option('display.max_columns', 100)"
      ],
      "execution_count": 21,
      "outputs": []
    },
    {
      "cell_type": "markdown",
      "metadata": {
        "id": "U1kASOiNoepN"
      },
      "source": [
        "### Scraping the Best Books Ever List"
      ]
    },
    {
      "cell_type": "code",
      "metadata": {
        "id": "iK6q2O_GobNO"
      },
      "source": [
        "#Getting the url using requests module\r\n",
        "URLSTART=\"https://www.goodreads.com\"\r\n",
        "BESTBOOKS=\"/list/show/1.Best_Books_Ever?page=\"\r\n",
        "url = URLSTART+BESTBOOKS+'1'\r\n",
        "page = requests.get(url)"
      ],
      "execution_count": 2,
      "outputs": []
    },
    {
      "cell_type": "code",
      "metadata": {
        "id": "_Jz5KFIcolKJ"
      },
      "source": [
        "\r\n",
        "\r\n",
        "page_dict={}\r\n",
        "for i in range(2):\r\n",
        "    url=URLSTART+BESTBOOKS+str(i+1)\r\n",
        "    page_dict[i]=requests.get(url).text\r\n",
        "\r\n"
      ],
      "execution_count": 3,
      "outputs": []
    },
    {
      "cell_type": "code",
      "metadata": {
        "id": "L_wRs22Oos3P"
      },
      "source": [
        "#Import BeautifulSoup\r\n",
        "from bs4 import BeautifulSoup"
      ],
      "execution_count": 4,
      "outputs": []
    },
    {
      "cell_type": "code",
      "metadata": {
        "colab": {
          "base_uri": "https://localhost:8080/"
        },
        "id": "ApIA1FguowEB",
        "outputId": "da7b6f36-246d-4c9f-d358-0a9248a89490"
      },
      "source": [
        "urldict={}\r\n",
        "for i in range(2):\r\n",
        "    soup= BeautifulSoup(page_dict[i], 'html.parser')\r\n",
        "    dfinder = lambda tag:tag.name==\"a\" and tag.get('class') == ['bookTitle']\r\n",
        "    table_demographics = soup.find_all(dfinder)\r\n",
        "    refs=[ref['href'] for ref in table_demographics]\r\n",
        "    urldict[i]=refs\r\n"
      ],
      "execution_count": 5,
      "outputs": [
        {
          "output_type": "stream",
          "text": [
            "100\n"
          ],
          "name": "stdout"
        }
      ]
    },
    {
      "cell_type": "code",
      "metadata": {
        "colab": {
          "base_uri": "https://localhost:8080/",
          "height": 269
        },
        "id": "DQBKwdPZo0OW",
        "outputId": "fa8ea931-8be2-4f51-a21a-870b262f0970"
      },
      "source": [
        "from IPython.display import HTML\r\n",
        "HTML(str(table_demographics))"
      ],
      "execution_count": 6,
      "outputs": [
        {
          "output_type": "execute_result",
          "data": {
            "text/html": [
              "[<a class=\"bookTitle\" href=\"/book/show/153747.Moby_Dick_or_the_Whale\" itemprop=\"url\">\n",
              "<span aria-level=\"4\" itemprop=\"name\" role=\"heading\">Moby-Dick or, the Whale</span>\n",
              "</a>, <a class=\"bookTitle\" href=\"/book/show/6.Harry_Potter_and_the_Goblet_of_Fire\" itemprop=\"url\">\n",
              "<span aria-level=\"4\" itemprop=\"name\" role=\"heading\">Harry Potter and the Goblet of Fire (Harry Potter, #4)</span>\n",
              "</a>, <a class=\"bookTitle\" href=\"/book/show/4989.The_Red_Tent\" itemprop=\"url\">\n",
              "<span aria-level=\"4\" itemprop=\"name\" role=\"heading\">The Red Tent</span>\n",
              "</a>, <a class=\"bookTitle\" href=\"/book/show/37435.The_Secret_Life_of_Bees\" itemprop=\"url\">\n",
              "<span aria-level=\"4\" itemprop=\"name\" role=\"heading\">The Secret Life of Bees</span>\n",
              "</a>, <a class=\"bookTitle\" href=\"/book/show/7171637-clockwork-angel\" itemprop=\"url\">\n",
              "<span aria-level=\"4\" itemprop=\"name\" role=\"heading\">Clockwork Angel (The Infernal Devices, #1)</span>\n",
              "</a>, <a class=\"bookTitle\" href=\"/book/show/1.Harry_Potter_and_the_Half_Blood_Prince\" itemprop=\"url\">\n",
              "<span aria-level=\"4\" itemprop=\"name\" role=\"heading\">Harry Potter and the Half-Blood Prince (Harry Potter, #6)</span>\n",
              "</a>, <a class=\"bookTitle\" href=\"/book/show/16299.And_Then_There_Were_None\" itemprop=\"url\">\n",
              "<span aria-level=\"4\" itemprop=\"name\" role=\"heading\">And Then There Were None</span>\n",
              "</a>, <a class=\"bookTitle\" href=\"/book/show/2187.Middlesex\" itemprop=\"url\">\n",
              "<span aria-level=\"4\" itemprop=\"name\" role=\"heading\">Middlesex</span>\n",
              "</a>, <a class=\"bookTitle\" href=\"/book/show/49552.The_Stranger\" itemprop=\"url\">\n",
              "<span aria-level=\"4\" itemprop=\"name\" role=\"heading\">The Stranger</span>\n",
              "</a>, <a class=\"bookTitle\" href=\"/book/show/11588.The_Shining\" itemprop=\"url\">\n",
              "<span aria-level=\"4\" itemprop=\"name\" role=\"heading\">The Shining</span>\n",
              "</a>, <a class=\"bookTitle\" href=\"/book/show/186074.The_Name_of_the_Wind\" itemprop=\"url\">\n",
              "<span aria-level=\"4\" itemprop=\"name\" role=\"heading\">The Name of the Wind (The Kingkiller Chronicle, #1)</span>\n",
              "</a>, <a class=\"bookTitle\" href=\"/book/show/117833.The_Master_and_Margarita\" itemprop=\"url\">\n",
              "<span aria-level=\"4\" itemprop=\"name\" role=\"heading\">The Master and Margarita</span>\n",
              "</a>, <a class=\"bookTitle\" href=\"/book/show/24583.The_Adventures_of_Tom_Sawyer\" itemprop=\"url\">\n",
              "<span aria-level=\"4\" itemprop=\"name\" role=\"heading\">The Adventures of Tom Sawyer</span>\n",
              "</a>, <a class=\"bookTitle\" href=\"/book/show/113436.Eragon\" itemprop=\"url\">\n",
              "<span aria-level=\"4\" itemprop=\"name\" role=\"heading\">Eragon (The Inheritance Cycle, #1)</span>\n",
              "</a>, <a class=\"bookTitle\" href=\"/book/show/6310.Charlie_and_the_Chocolate_Factory\" itemprop=\"url\">\n",
              "<span aria-level=\"4\" itemprop=\"name\" role=\"heading\">Charlie and the Chocolate Factory (Charlie Bucket, #1)</span>\n",
              "</a>, <a class=\"bookTitle\" href=\"/book/show/36576608-flowers-for-algernon\" itemprop=\"url\">\n",
              "<span aria-level=\"4\" itemprop=\"name\" role=\"heading\">Flowers for Algernon</span>\n",
              "</a>, <a class=\"bookTitle\" href=\"/book/show/485894.The_Metamorphosis\" itemprop=\"url\">\n",
              "<span aria-level=\"4\" itemprop=\"name\" role=\"heading\">The Metamorphosis</span>\n",
              "</a>, <a class=\"bookTitle\" href=\"/book/show/70401.On_the_Road\" itemprop=\"url\">\n",
              "<span aria-level=\"4\" itemprop=\"name\" role=\"heading\">On the Road</span>\n",
              "</a>, <a class=\"bookTitle\" href=\"/book/show/99561.Looking_for_Alaska\" itemprop=\"url\">\n",
              "<span aria-level=\"4\" itemprop=\"name\" role=\"heading\">Looking for Alaska</span>\n",
              "</a>, <a class=\"bookTitle\" href=\"/book/show/1618.The_Curious_Incident_of_the_Dog_in_the_Night_Time\" itemprop=\"url\">\n",
              "<span aria-level=\"4\" itemprop=\"name\" role=\"heading\">The Curious Incident of the Dog in the Night-Time</span>\n",
              "</a>, <a class=\"bookTitle\" href=\"/book/show/1232.The_Shadow_of_the_Wind\" itemprop=\"url\">\n",
              "<span aria-level=\"4\" itemprop=\"name\" role=\"heading\">The Shadow of the Wind (The Cemetery of Forgotten Books, #1)</span>\n",
              "</a>, <a class=\"bookTitle\" href=\"/book/show/4948.The_Very_Hungry_Caterpillar\" itemprop=\"url\">\n",
              "<span aria-level=\"4\" itemprop=\"name\" role=\"heading\">The Very Hungry Caterpillar</span>\n",
              "</a>, <a class=\"bookTitle\" href=\"/book/show/6900.Tuesdays_with_Morrie\" itemprop=\"url\">\n",
              "<span aria-level=\"4\" itemprop=\"name\" role=\"heading\">Tuesdays with Morrie</span>\n",
              "</a>, <a class=\"bookTitle\" href=\"/book/show/9717.The_Unbearable_Lightness_of_Being\" itemprop=\"url\">\n",
              "<span aria-level=\"4\" itemprop=\"name\" role=\"heading\">The Unbearable Lightness of Being</span>\n",
              "</a>, <a class=\"bookTitle\" href=\"/book/show/15881.Harry_Potter_and_the_Chamber_of_Secrets\" itemprop=\"url\">\n",
              "<span aria-level=\"4\" itemprop=\"name\" role=\"heading\">Harry Potter and the Chamber of Secrets (Harry Potter, #2)</span>\n",
              "</a>, <a class=\"bookTitle\" href=\"/book/show/119073.The_Name_of_the_Rose\" itemprop=\"url\">\n",
              "<span aria-level=\"4\" itemprop=\"name\" role=\"heading\">The Name of the Rose</span>\n",
              "</a>, <a class=\"bookTitle\" href=\"/book/show/10365.Where_the_Red_Fern_Grows\" itemprop=\"url\">\n",
              "<span aria-level=\"4\" itemprop=\"name\" role=\"heading\">Where the Red Fern Grows</span>\n",
              "</a>, <a class=\"bookTitle\" href=\"/book/show/22034.The_Godfather\" itemprop=\"url\">\n",
              "<span aria-level=\"4\" itemprop=\"name\" role=\"heading\">The Godfather</span>\n",
              "</a>, <a class=\"bookTitle\" href=\"/book/show/12296.The_Scarlet_Letter\" itemprop=\"url\">\n",
              "<span aria-level=\"4\" itemprop=\"name\" role=\"heading\">The Scarlet Letter</span>\n",
              "</a>, <a class=\"bookTitle\" href=\"/book/show/168642.In_Cold_Blood\" itemprop=\"url\">\n",
              "<span aria-level=\"4\" itemprop=\"name\" role=\"heading\">In Cold Blood</span>\n",
              "</a>, <a class=\"bookTitle\" href=\"/book/show/3431.The_Five_People_You_Meet_in_Heaven\" itemprop=\"url\">\n",
              "<span aria-level=\"4\" itemprop=\"name\" role=\"heading\">The Five People You Meet in Heaven</span>\n",
              "</a>, <a class=\"bookTitle\" href=\"/book/show/6339664-hush-hush\" itemprop=\"url\">\n",
              "<span aria-level=\"4\" itemprop=\"name\" role=\"heading\">Hush, Hush (Hush, Hush, #1)</span>\n",
              "</a>, <a class=\"bookTitle\" href=\"/book/show/36236124-fight-club\" itemprop=\"url\">\n",
              "<span aria-level=\"4\" itemprop=\"name\" role=\"heading\">Fight Club</span>\n",
              "</a>, <a class=\"bookTitle\" href=\"/book/show/7126.The_Count_of_Monte_Cristo\" itemprop=\"url\">\n",
              "<span aria-level=\"4\" itemprop=\"name\" role=\"heading\">The Count of Monte Cristo</span>\n",
              "</a>, <a class=\"bookTitle\" href=\"/book/show/233093.The_Cat_in_the_Hat\" itemprop=\"url\">\n",
              "<span aria-level=\"4\" itemprop=\"name\" role=\"heading\">The Cat in the Hat (The Cat in the Hat, #1)</span>\n",
              "</a>, <a class=\"bookTitle\" href=\"/book/show/100915.The_Lion_the_Witch_and_the_Wardrobe\" itemprop=\"url\">\n",
              "<span aria-level=\"4\" itemprop=\"name\" role=\"heading\">The Lion, the Witch and the Wardrobe (Chronicles of Narnia, #1)</span>\n",
              "</a>, <a class=\"bookTitle\" href=\"/book/show/30165203-american-gods\" itemprop=\"url\">\n",
              "<span aria-level=\"4\" itemprop=\"name\" role=\"heading\">American Gods (American Gods, #1)</span>\n",
              "</a>, <a class=\"bookTitle\" href=\"/book/show/343.Perfume\" itemprop=\"url\">\n",
              "<span aria-level=\"4\" itemprop=\"name\" role=\"heading\">Perfume: The Story of a Murderer</span>\n",
              "</a>, <a class=\"bookTitle\" href=\"/book/show/38709.Holes\" itemprop=\"url\">\n",
              "<span aria-level=\"4\" itemprop=\"name\" role=\"heading\">Holes (Holes, #1)</span>\n",
              "</a>, <a class=\"bookTitle\" href=\"/book/show/4556058-the-last-olympian\" itemprop=\"url\">\n",
              "<span aria-level=\"4\" itemprop=\"name\" role=\"heading\">The Last Olympian (Percy Jackson and the Olympians, #5)</span>\n",
              "</a>, <a class=\"bookTitle\" href=\"/book/show/256008.Lonesome_Dove\" itemprop=\"url\">\n",
              "<span aria-level=\"4\" itemprop=\"name\" role=\"heading\">Lonesome Dove (Lonesome Dove #1)</span>\n",
              "</a>, <a class=\"bookTitle\" href=\"/book/show/830502.It\" itemprop=\"url\">\n",
              "<span aria-level=\"4\" itemprop=\"name\" role=\"heading\">It</span>\n",
              "</a>, <a class=\"bookTitle\" href=\"/book/show/472331.Watchmen\" itemprop=\"url\">\n",
              "<span aria-level=\"4\" itemprop=\"name\" role=\"heading\">Watchmen</span>\n",
              "</a>, <a class=\"bookTitle\" href=\"/book/show/114345.The_Little_House_Collection\" itemprop=\"url\">\n",
              "<span aria-level=\"4\" itemprop=\"name\" role=\"heading\">The Little House Collection (Little House, #1-9)</span>\n",
              "</a>, <a class=\"bookTitle\" href=\"/book/show/6656.The_Divine_Comedy\" itemprop=\"url\">\n",
              "<span aria-level=\"4\" itemprop=\"name\" role=\"heading\">The Divine Comedy</span>\n",
              "</a>, <a class=\"bookTitle\" href=\"/book/show/34268.Peter_Pan\" itemprop=\"url\">\n",
              "<span aria-level=\"4\" itemprop=\"name\" role=\"heading\">Peter Pan</span>\n",
              "</a>, <a class=\"bookTitle\" href=\"/book/show/355697.All_Quiet_on_the_Western_Front\" itemprop=\"url\">\n",
              "<span aria-level=\"4\" itemprop=\"name\" role=\"heading\">All Quiet on the Western Front</span>\n",
              "</a>, <a class=\"bookTitle\" href=\"/book/show/5907.The_Hobbit_or_There_and_Back_Again\" itemprop=\"url\">\n",
              "<span aria-level=\"4\" itemprop=\"name\" role=\"heading\">The Hobbit, or There and Back Again</span>\n",
              "</a>, <a class=\"bookTitle\" href=\"/book/show/1423.The_Compleat_Works_of_Wllm_Shkspr\" itemprop=\"url\">\n",
              "<span aria-level=\"4\" itemprop=\"name\" role=\"heading\">The Compleat Works of Wllm Shkspr</span>\n",
              "</a>, <a class=\"bookTitle\" href=\"/book/show/9712.Love_in_the_Time_of_Cholera\" itemprop=\"url\">\n",
              "<span aria-level=\"4\" itemprop=\"name\" role=\"heading\">Love in the Time of Cholera</span>\n",
              "</a>, <a class=\"bookTitle\" href=\"/book/show/11735983-insurgent\" itemprop=\"url\">\n",
              "<span aria-level=\"4\" itemprop=\"name\" role=\"heading\">Insurgent (Divergent, #2)</span>\n",
              "</a>, <a class=\"bookTitle\" href=\"/book/show/2802316-shadow-kiss\" itemprop=\"url\">\n",
              "<span aria-level=\"4\" itemprop=\"name\" role=\"heading\">Shadow Kiss (Vampire Academy, #3)</span>\n",
              "</a>, <a class=\"bookTitle\" href=\"/book/show/3412.The_Thorn_Birds\" itemprop=\"url\">\n",
              "<span aria-level=\"4\" itemprop=\"name\" role=\"heading\">The Thorn Birds</span>\n",
              "</a>, <a class=\"bookTitle\" href=\"/book/show/35545737-a-walk-to-remember\" itemprop=\"url\">\n",
              "<span aria-level=\"4\" itemprop=\"name\" role=\"heading\">A Walk to Remember</span>\n",
              "</a>, <a class=\"bookTitle\" href=\"/book/show/113946.How_the_Grinch_Stole_Christmas_\" itemprop=\"url\">\n",
              "<span aria-level=\"4\" itemprop=\"name\" role=\"heading\">How the Grinch Stole Christmas!</span>\n",
              "</a>, <a class=\"bookTitle\" href=\"/book/show/13.The_Ultimate_Hitchhiker_s_Guide_to_the_Galaxy\" itemprop=\"url\">\n",
              "<span aria-level=\"4\" itemprop=\"name\" role=\"heading\">The Ultimate Hitchhiker's Guide to the Galaxy (Hitchhiker's Guide to the Galaxy, #1-5)</span>\n",
              "</a>, <a class=\"bookTitle\" href=\"/book/show/92303.The_Importance_of_Being_Earnest\" itemprop=\"url\">\n",
              "<span aria-level=\"4\" itemprop=\"name\" role=\"heading\">The Importance of Being Earnest</span>\n",
              "</a>, <a class=\"bookTitle\" href=\"/book/show/19501.Eat_Pray_Love\" itemprop=\"url\">\n",
              "<span aria-level=\"4\" itemprop=\"name\" role=\"heading\">Eat, Pray, Love</span>\n",
              "</a>, <a class=\"bookTitle\" href=\"/book/show/6867.Atonement\" itemprop=\"url\">\n",
              "<span aria-level=\"4\" itemprop=\"name\" role=\"heading\">Atonement</span>\n",
              "</a>, <a class=\"bookTitle\" href=\"/book/show/37415.Their_Eyes_Were_Watching_God\" itemprop=\"url\">\n",
              "<span aria-level=\"4\" itemprop=\"name\" role=\"heading\">Their Eyes Were Watching God</span>\n",
              "</a>, <a class=\"bookTitle\" href=\"/book/show/7190.The_Three_Musketeers\" itemprop=\"url\">\n",
              "<span aria-level=\"4\" itemprop=\"name\" role=\"heading\">The Three Musketeers (The D'Artagnan Romances, #1)</span>\n",
              "</a>, <a class=\"bookTitle\" href=\"/book/show/236093.The_Wonderful_Wizard_of_Oz\" itemprop=\"url\">\n",
              "<span aria-level=\"4\" itemprop=\"name\" role=\"heading\">The Wonderful Wizard of Oz (Oz, #1)</span>\n",
              "</a>, <a class=\"bookTitle\" href=\"/book/show/12067.Good_Omens\" itemprop=\"url\">\n",
              "<span aria-level=\"4\" itemprop=\"name\" role=\"heading\">Good Omens: The Nice and Accurate Prophecies of Agnes Nutter, Witch</span>\n",
              "</a>, <a class=\"bookTitle\" href=\"/book/show/2282133.Frostbite\" itemprop=\"url\">\n",
              "<span aria-level=\"4\" itemprop=\"name\" role=\"heading\">Frostbite (Vampire Academy, #2)</span>\n",
              "</a>, <a class=\"bookTitle\" href=\"/book/show/32929.Goodnight_Moon\" itemprop=\"url\">\n",
              "<span aria-level=\"4\" itemprop=\"name\" role=\"heading\">Goodnight Moon</span>\n",
              "</a>, <a class=\"bookTitle\" href=\"/book/show/7784.The_Lorax\" itemprop=\"url\">\n",
              "<span aria-level=\"4\" itemprop=\"name\" role=\"heading\">The Lorax</span>\n",
              "</a>, <a class=\"bookTitle\" href=\"/book/show/34.The_Fellowship_of_the_Ring\" itemprop=\"url\">\n",
              "<span aria-level=\"4\" itemprop=\"name\" role=\"heading\">The Fellowship of the Ring (The Lord of the Rings, #1)</span>\n",
              "</a>, <a class=\"bookTitle\" href=\"/book/show/5996153-blood-promise\" itemprop=\"url\">\n",
              "<span aria-level=\"4\" itemprop=\"name\" role=\"heading\">Blood Promise (Vampire Academy, #4)</span>\n",
              "</a>, <a class=\"bookTitle\" href=\"/book/show/2120932.The_Battle_of_the_Labyrinth\" itemprop=\"url\">\n",
              "<span aria-level=\"4\" itemprop=\"name\" role=\"heading\">The Battle of the Labyrinth (Percy Jackson and the Olympians, #4)</span>\n",
              "</a>, <a class=\"bookTitle\" href=\"/book/show/18335634-clockwork-princess\" itemprop=\"url\">\n",
              "<span aria-level=\"4\" itemprop=\"name\" role=\"heading\">Clockwork Princess (The Infernal Devices, #3)</span>\n",
              "</a>, <a class=\"bookTitle\" href=\"/book/show/32261.Tess_of_the_D_Urbervilles\" itemprop=\"url\">\n",
              "<span aria-level=\"4\" itemprop=\"name\" role=\"heading\">Tess of the D'Urbervilles</span>\n",
              "</a>, <a class=\"bookTitle\" href=\"/book/show/4900.Heart_of_Darkness\" itemprop=\"url\">\n",
              "<span aria-level=\"4\" itemprop=\"name\" role=\"heading\">Heart of Darkness</span>\n",
              "</a>, <a class=\"bookTitle\" href=\"/book/show/1078.The_Good_Earth\" itemprop=\"url\">\n",
              "<span aria-level=\"4\" itemprop=\"name\" role=\"heading\">The Good Earth (House of Earth, #1)</span>\n",
              "</a>, <a class=\"bookTitle\" href=\"/book/show/1622.A_Midsummer_Night_s_Dream\" itemprop=\"url\">\n",
              "<span aria-level=\"4\" itemprop=\"name\" role=\"heading\">A Midsummer Night's Dream</span>\n",
              "</a>, <a class=\"bookTitle\" href=\"/book/show/2547.The_Prophet\" itemprop=\"url\">\n",
              "<span aria-level=\"4\" itemprop=\"name\" role=\"heading\">The Prophet</span>\n",
              "</a>, <a class=\"bookTitle\" href=\"/book/show/561456.The_Titan_s_Curse\" itemprop=\"url\">\n",
              "<span aria-level=\"4\" itemprop=\"name\" role=\"heading\">The Titan's Curse (Percy Jackson and the Olympians, #3)</span>\n",
              "</a>, <a class=\"bookTitle\" href=\"/book/show/28186.The_Sea_of_Monsters\" itemprop=\"url\">\n",
              "<span aria-level=\"4\" itemprop=\"name\" role=\"heading\">The Sea of Monsters (Percy Jackson and the Olympians, #2)</span>\n",
              "</a>, <a class=\"bookTitle\" href=\"/book/show/40605251-the-mists-of-avalon\" itemprop=\"url\">\n",
              "<span aria-level=\"4\" itemprop=\"name\" role=\"heading\">The Mists of Avalon (Avalon, #1)</span>\n",
              "</a>, <a class=\"bookTitle\" href=\"/book/show/7763.The_Joy_Luck_Club\" itemprop=\"url\">\n",
              "<span aria-level=\"4\" itemprop=\"name\" role=\"heading\">The Joy Luck Club</span>\n",
              "</a>, <a class=\"bookTitle\" href=\"/book/show/13023.Alice_in_Wonderland\" itemprop=\"url\">\n",
              "<span aria-level=\"4\" itemprop=\"name\" role=\"heading\">Alice in Wonderland</span>\n",
              "</a>, <a class=\"bookTitle\" href=\"/book/show/1852.The_Call_of_the_Wild\" itemprop=\"url\">\n",
              "<span aria-level=\"4\" itemprop=\"name\" role=\"heading\">The Call of the Wild</span>\n",
              "</a>, <a class=\"bookTitle\" href=\"/book/show/71728.Jonathan_Livingston_Seagull\" itemprop=\"url\">\n",
              "<span aria-level=\"4\" itemprop=\"name\" role=\"heading\">Jonathan Livingston Seagull</span>\n",
              "</a>, <a class=\"bookTitle\" href=\"/book/show/7938275-the-hunger-games-trilogy-boxset\" itemprop=\"url\">\n",
              "<span aria-level=\"4\" itemprop=\"name\" role=\"heading\">The Hunger Games Trilogy Boxset (The Hunger Games, #1-3)</span>\n",
              "</a>, <a class=\"bookTitle\" href=\"/book/show/2175.Madame_Bovary\" itemprop=\"url\">\n",
              "<span aria-level=\"4\" itemprop=\"name\" role=\"heading\">Madame Bovary</span>\n",
              "</a>, <a class=\"bookTitle\" href=\"/book/show/40940121-bridge-to-terabithia\" itemprop=\"url\">\n",
              "<span aria-level=\"4\" itemprop=\"name\" role=\"heading\">Bridge to Terabithia</span>\n",
              "</a>, <a class=\"bookTitle\" href=\"/book/show/6186357-the-maze-runner\" itemprop=\"url\">\n",
              "<span aria-level=\"4\" itemprop=\"name\" role=\"heading\">The Maze Runner (The Maze Runner, #1)</span>\n",
              "</a>, <a class=\"bookTitle\" href=\"/book/show/378.The_Phantom_Tollbooth\" itemprop=\"url\">\n",
              "<span aria-level=\"4\" itemprop=\"name\" role=\"heading\">The Phantom Tollbooth</span>\n",
              "</a>, <a class=\"bookTitle\" href=\"/book/show/191139.Oh_the_Places_You_ll_Go_\" itemprop=\"url\">\n",
              "<span aria-level=\"4\" itemprop=\"name\" role=\"heading\">Oh, the Places You'll Go!</span>\n",
              "</a>, <a class=\"bookTitle\" href=\"/book/show/5060378-the-girl-who-played-with-fire\" itemprop=\"url\">\n",
              "<span aria-level=\"4\" itemprop=\"name\" role=\"heading\">The Girl Who Played with Fire (Millennium, #2)</span>\n",
              "</a>, <a class=\"bookTitle\" href=\"/book/show/18254.Oliver_Twist\" itemprop=\"url\">\n",
              "<span aria-level=\"4\" itemprop=\"name\" role=\"heading\">Oliver Twist</span>\n",
              "</a>, <a class=\"bookTitle\" href=\"/book/show/27712.The_Neverending_Story\" itemprop=\"url\">\n",
              "<span aria-level=\"4\" itemprop=\"name\" role=\"heading\">The Neverending Story</span>\n",
              "</a>, <a class=\"bookTitle\" href=\"/book/show/295.Treasure_Island\" itemprop=\"url\">\n",
              "<span aria-level=\"4\" itemprop=\"name\" role=\"heading\">Treasure Island</span>\n",
              "</a>, <a class=\"bookTitle\" href=\"/book/show/338798.Ulysses\" itemprop=\"url\">\n",
              "<span aria-level=\"4\" itemprop=\"name\" role=\"heading\">Ulysses</span>\n",
              "</a>, <a class=\"bookTitle\" href=\"/book/show/10818853-fifty-shades-of-grey\" itemprop=\"url\">\n",
              "<span aria-level=\"4\" itemprop=\"name\" role=\"heading\">Fifty Shades of Grey (Fifty Shades, #1)</span>\n",
              "</a>, <a class=\"bookTitle\" href=\"/book/show/40611463-the-clan-of-the-cave-bear\" itemprop=\"url\">\n",
              "<span aria-level=\"4\" itemprop=\"name\" role=\"heading\">The Clan of the Cave Bear (Earth's Children #1)</span>\n",
              "</a>, <a class=\"bookTitle\" href=\"/book/show/62291.A_Storm_of_Swords\" itemprop=\"url\">\n",
              "<span aria-level=\"4\" itemprop=\"name\" role=\"heading\">A Storm of Swords (A Song of Ice and Fire, #3)</span>\n",
              "</a>, <a class=\"bookTitle\" href=\"/book/show/2696.The_Canterbury_Tales\" itemprop=\"url\">\n",
              "<span aria-level=\"4\" itemprop=\"name\" role=\"heading\">The Canterbury Tales</span>\n",
              "</a>, <a class=\"bookTitle\" href=\"/book/show/7069.The_World_According_to_Garp\" itemprop=\"url\">\n",
              "<span aria-level=\"4\" itemprop=\"name\" role=\"heading\">The World According to Garp</span>\n",
              "</a>, <a class=\"bookTitle\" href=\"/book/show/10799.A_Farewell_to_Arms\" itemprop=\"url\">\n",
              "<span aria-level=\"4\" itemprop=\"name\" role=\"heading\">A Farewell to Arms</span>\n",
              "</a>, <a class=\"bookTitle\" href=\"/book/show/58696.David_Copperfield\" itemprop=\"url\">\n",
              "<span aria-level=\"4\" itemprop=\"name\" role=\"heading\">David Copperfield</span>\n",
              "</a>]"
            ],
            "text/plain": [
              "<IPython.core.display.HTML object>"
            ]
          },
          "metadata": {
            "tags": []
          },
          "execution_count": 6
        }
      ]
    },
    {
      "cell_type": "markdown",
      "metadata": {
        "id": "NKaKTk42o7Ze"
      },
      "source": [
        "### Scraping the webpage of each book (well only a few, really)"
      ]
    },
    {
      "cell_type": "code",
      "metadata": {
        "colab": {
          "base_uri": "https://localhost:8080/"
        },
        "id": "fhCGtWxWo4jn",
        "outputId": "d204d914-5eae-4a67-e43b-71d397601e56"
      },
      "source": [
        "\r\n",
        "#Scraping one of the files\r\n",
        "URLSTART=\"https://www.goodreads.com\"\r\n",
        "book_url=URLSTART+urldict[1][0]\r\n",
        "stuff=requests.get(book_url)\r\n",
        "\r\n",
        "#Check the status of the page\r\n",
        "print(stuff.status_code)\r\n",
        "\r\n",
        "#All OK!"
      ],
      "execution_count": 7,
      "outputs": [
        {
          "output_type": "stream",
          "text": [
            "200\n"
          ],
          "name": "stdout"
        }
      ]
    },
    {
      "cell_type": "code",
      "metadata": {
        "id": "I-qLrWxdpHPZ"
      },
      "source": [
        "#Fetching the actual 200 book pages\r\n",
        "#In the interest of time, we are taking just the first 10 of each page. Running this for 200 books takes 25 min!\r\n",
        "bookdict={}\r\n",
        "URLSTART=\"https://www.goodreads.com\"\r\n",
        "for i in range(10):\r\n",
        "    book_url=URLSTART+urldict[0][i]\r\n",
        "    stuff=requests.get(book_url).text\r\n",
        "    bookdict[i]=stuff\r\n",
        "\r\n"
      ],
      "execution_count": 8,
      "outputs": []
    },
    {
      "cell_type": "markdown",
      "metadata": {
        "id": "z8lLZlX8pOP2"
      },
      "source": [
        "### Parsing each book page to extract information\r\n",
        "\r\n",
        "Now that we have the HTML text for the books, we can extract information from these web pages. \r\n",
        "The following data is extracted:\r\n",
        "\r\n",
        "- Published year\r\n",
        "- Rating\r\n",
        "- ISBN \r\n",
        "- Title of the book\r\n",
        "- Author\r\n",
        "- Genres this book fits in.\r\n",
        "- Rating count, the number of people who have rated this book"
      ]
    },
    {
      "cell_type": "markdown",
      "metadata": {
        "id": "fhJPhPxapscN"
      },
      "source": [
        "#### Extracting Genres"
      ]
    },
    {
      "cell_type": "code",
      "metadata": {
        "colab": {
          "base_uri": "https://localhost:8080/"
        },
        "id": "zvpCypSGpLEb",
        "outputId": "c9877827-c7d3-4cbf-91c1-36eade756fc2"
      },
      "source": [
        "#Extracting genre\r\n",
        "def get_genre(d):\r\n",
        "    genre=[]\r\n",
        "    gen= BeautifulSoup(d, 'html.parser').find_all(\"a\", class_=\"actionLinkLite bookPageGenreLink\")\r\n",
        "    genre=[ref['href']+'|' for ref in gen]\r\n",
        "    return genre\r\n",
        "print(get_genre(bookdict[1]))"
      ],
      "execution_count": 9,
      "outputs": [
        {
          "output_type": "stream",
          "text": [
            "['/genres/fantasy|', '/genres/young-adult|', '/genres/fiction|', '/genres/fantasy|', '/genres/magic|', '/genres/childrens|', '/genres/adventure|', '/genres/audiobook|', '/genres/childrens|', '/genres/middle-grade|', '/genres/classics|', '/genres/science-fiction-fantasy|']\n"
          ],
          "name": "stdout"
        }
      ]
    },
    {
      "cell_type": "code",
      "metadata": {
        "colab": {
          "base_uri": "https://localhost:8080/"
        },
        "id": "-inJoh4ip1Gw",
        "outputId": "e945bbd6-7678-4349-a905-0e80180b5308"
      },
      "source": [
        "BeautifulSoup(bookdict[1], 'html.parser').find_all(\"a\", class_=\"actionLinkLite bookPageGenreLink\")"
      ],
      "execution_count": 10,
      "outputs": [
        {
          "output_type": "execute_result",
          "data": {
            "text/plain": [
              "[<a class=\"actionLinkLite bookPageGenreLink\" href=\"/genres/fantasy\">Fantasy</a>,\n",
              " <a class=\"actionLinkLite bookPageGenreLink\" href=\"/genres/young-adult\">Young Adult</a>,\n",
              " <a class=\"actionLinkLite bookPageGenreLink\" href=\"/genres/fiction\">Fiction</a>,\n",
              " <a class=\"actionLinkLite bookPageGenreLink\" href=\"/genres/fantasy\">Fantasy</a>,\n",
              " <a class=\"actionLinkLite bookPageGenreLink\" href=\"/genres/magic\">Magic</a>,\n",
              " <a class=\"actionLinkLite bookPageGenreLink\" href=\"/genres/childrens\">Childrens</a>,\n",
              " <a class=\"actionLinkLite bookPageGenreLink\" href=\"/genres/adventure\">Adventure</a>,\n",
              " <a class=\"actionLinkLite bookPageGenreLink\" href=\"/genres/audiobook\">Audiobook</a>,\n",
              " <a class=\"actionLinkLite bookPageGenreLink\" href=\"/genres/childrens\">Childrens</a>,\n",
              " <a class=\"actionLinkLite bookPageGenreLink\" href=\"/genres/middle-grade\">Middle Grade</a>,\n",
              " <a class=\"actionLinkLite bookPageGenreLink\" href=\"/genres/classics\">Classics</a>,\n",
              " <a class=\"actionLinkLite bookPageGenreLink\" href=\"/genres/science-fiction-fantasy\">Science Fiction Fantasy</a>]"
            ]
          },
          "metadata": {
            "tags": []
          },
          "execution_count": 10
        }
      ]
    },
    {
      "cell_type": "markdown",
      "metadata": {
        "id": "IEBO5kBAp6P3"
      },
      "source": [
        "#### Extract Publishing Year"
      ]
    },
    {
      "cell_type": "code",
      "metadata": {
        "id": "dPj0VZ-pp30-"
      },
      "source": [
        "#Extracting published year\r\n",
        "yearre = r'\\d{4}'\r\n",
        "def get_year(d):\r\n",
        "\r\n",
        "  d = BeautifulSoup(d,'html.parser')\r\n",
        "\r\n",
        "  years=d.find(\"div\", attrs={\"class\": \"uitext darkGreyText\"})\r\n",
        "  years=years.findChildren(\"div\")[1].text\r\n",
        "  yearmatch=re.findall(yearre,years)\r\n",
        "  years_original=d.find_all(\"nobr\", attrs={\"class\": \"greyText\"})\r\n",
        "  if years_original!=[]:\r\n",
        "    finalyear=yearmatch[1]\r\n",
        "    return finalyear\r\n",
        "  else:\r\n",
        "      if len(yearmatch) > 0:\r\n",
        "          finalyear=yearmatch[0]\r\n",
        "      else:\r\n",
        "          finalyear=\"NA\"\r\n",
        "      return finalyear"
      ],
      "execution_count": 11,
      "outputs": []
    },
    {
      "cell_type": "markdown",
      "metadata": {
        "id": "-iZpsT8IqEmw"
      },
      "source": [
        "#### Extracting the Rating, ISBN, Title of the book, Author and Rating Count"
      ]
    },
    {
      "cell_type": "code",
      "metadata": {
        "id": "ZIWCprQbqBnw"
      },
      "source": [
        "def get_author(d):\r\n",
        "    genre=[]\r\n",
        "    gen= BeautifulSoup(d, 'html.parser').find_all(\"a\", class_=\"authorName\")\r\n",
        "    genre=[ref['href'] for ref in gen]\r\n",
        "    return genre\r\n"
      ],
      "execution_count": 13,
      "outputs": []
    },
    {
      "cell_type": "code",
      "metadata": {
        "id": "7ZNEDkgVqNoX"
      },
      "source": [
        "def get_rating(d):\r\n",
        "    genre=[]\r\n",
        "    gen= BeautifulSoup(d, 'html.parser').find_all(\"span\", itemprop=\"ratingValue\")\r\n",
        "    genre=[ref.text.replace(\"\\n\",\"\") for ref in gen]\r\n",
        "    return genre"
      ],
      "execution_count": 14,
      "outputs": []
    },
    {
      "cell_type": "code",
      "metadata": {
        "colab": {
          "base_uri": "https://localhost:8080/"
        },
        "id": "1znJeoAeqbmW",
        "outputId": "a1617f10-33b3-4699-fa77-0ba58e979105"
      },
      "source": [
        "def get_isbn(d):\r\n",
        "    genre=[]\r\n",
        "    gen= BeautifulSoup(d, 'html.parser').find_all(\"span\", itemprop=\"isbn\")\r\n",
        "    genre=[ref.text.replace(\"\\n\",\"\") for ref in gen]\r\n",
        "    return genre\r\n",
        "get_isbn(bookdict[1])"
      ],
      "execution_count": 15,
      "outputs": [
        {
          "output_type": "execute_result",
          "data": {
            "text/plain": [
              "['9780439358071']"
            ]
          },
          "metadata": {
            "tags": []
          },
          "execution_count": 15
        }
      ]
    },
    {
      "cell_type": "code",
      "metadata": {
        "colab": {
          "base_uri": "https://localhost:8080/"
        },
        "id": "sM2EjAdXqe21",
        "outputId": "e5e08b28-98e6-48dc-f7b6-11ad55eb915c"
      },
      "source": [
        "def get_ratingCount(d):\r\n",
        "    genre=[]\r\n",
        "    gen= BeautifulSoup(d, 'html.parser').find_all(\"meta\", itemprop=\"ratingCount\")\r\n",
        "    genre=[ref['content']for ref in gen]\r\n",
        "    return genre\r\n",
        "get_ratingCount(bookdict[1])"
      ],
      "execution_count": 16,
      "outputs": [
        {
          "output_type": "execute_result",
          "data": {
            "text/plain": [
              "['2612025']"
            ]
          },
          "metadata": {
            "tags": []
          },
          "execution_count": 16
        }
      ]
    },
    {
      "cell_type": "code",
      "metadata": {
        "colab": {
          "base_uri": "https://localhost:8080/",
          "height": 35
        },
        "id": "B-J-6QUSqhT_",
        "outputId": "35c5b3d2-a18e-41fa-d2dd-f4f23bb084e3"
      },
      "source": [
        "def get_title(d):\r\n",
        "    gen= BeautifulSoup(d, 'html.parser').find(\"h1\", itemprop=\"name\",id=\"bookTitle\",class_=\"gr-h1 gr-h1--serif\").get_text()\r\n",
        "    return gen.strip().replace(\"\\n\",\"\")\r\n",
        "get_title(bookdict[1])"
      ],
      "execution_count": 17,
      "outputs": [
        {
          "output_type": "execute_result",
          "data": {
            "application/vnd.google.colaboratory.intrinsic+json": {
              "type": "string"
            },
            "text/plain": [
              "'Harry Potter and the Order of the Phoenix'"
            ]
          },
          "metadata": {
            "tags": []
          },
          "execution_count": 17
        }
      ]
    },
    {
      "cell_type": "code",
      "metadata": {
        "colab": {
          "base_uri": "https://localhost:8080/"
        },
        "id": "0QlgiRYvqjr2",
        "outputId": "2246e4f6-cccb-413b-f788-27c97c2bf6e5"
      },
      "source": [
        "listofdicts=[]\r\n",
        "book={}\r\n",
        "for i in range(10):\r\n",
        "    book={'title':get_title(bookdict[i]),'year': get_year(bookdict[i]),'genre':get_genre(bookdict[i]),'authors':get_author(bookdict[i]),'ratings':get_rating(bookdict[i]),'isbn':get_isbn(bookdict[i]),'ratingCount':get_ratingCount(bookdict[i])}\r\n",
        "    listofdicts.append(book)\r\n",
        "print(listofdicts[0:3])"
      ],
      "execution_count": 18,
      "outputs": [
        {
          "output_type": "stream",
          "text": [
            "[{'title': 'The Hunger Games', 'year': '2008', 'genre': ['/genres/young-adult|', '/genres/fiction|', '/genres/science-fiction|', '/genres/dystopia|', '/genres/fantasy|', '/genres/science-fiction|', '/genres/romance|', '/genres/adventure|', '/genres/young-adult|', '/genres/teen|', '/genres/apocalyptic|', '/genres/post-apocalyptic|', '/genres/action|'], 'authors': ['https://www.goodreads.com/author/show/153394.Suzanne_Collins'], 'ratings': ['  4.32'], 'isbn': ['9780439023481'], 'ratingCount': ['6597683']}, {'title': 'Harry Potter and the Order of the Phoenix', 'year': '2003', 'genre': ['/genres/fantasy|', '/genres/young-adult|', '/genres/fiction|', '/genres/fantasy|', '/genres/magic|', '/genres/childrens|', '/genres/adventure|', '/genres/audiobook|', '/genres/childrens|', '/genres/middle-grade|', '/genres/classics|', '/genres/science-fiction-fantasy|'], 'authors': ['https://www.goodreads.com/author/show/1077326.J_K_Rowling', 'https://www.goodreads.com/author/show/2927.Mary_GrandPr_'], 'ratings': ['  4.50'], 'isbn': ['9780439358071'], 'ratingCount': ['2612025']}, {'title': 'To Kill a Mockingbird', 'year': '1960', 'genre': ['/genres/classics|', '/genres/fiction|', '/genres/historical|', '/genres/historical-fiction|', '/genres/academic|', '/genres/school|', '/genres/literature|', '/genres/young-adult|', '/genres/historical|', '/genres/novels|', '/genres/academic|', '/genres/read-for-school|', '/genres/young-adult|', '/genres/high-school|'], 'authors': ['https://www.goodreads.com/author/show/1825.Harper_Lee'], 'ratings': ['  4.28'], 'isbn': [], 'ratingCount': ['4679544']}]\n"
          ],
          "name": "stdout"
        }
      ]
    },
    {
      "cell_type": "markdown",
      "metadata": {
        "id": "BKBbVnTwqpc5"
      },
      "source": [
        "### Creating a dataframe"
      ]
    },
    {
      "cell_type": "code",
      "metadata": {
        "colab": {
          "base_uri": "https://localhost:8080/",
          "height": 279
        },
        "id": "ovz9dGESqmXh",
        "outputId": "b17a241d-46c3-44dd-e210-60ea8d10d8a9"
      },
      "source": [
        "df = pd.DataFrame.from_records(listofdicts)\r\n",
        "df.head()"
      ],
      "execution_count": 19,
      "outputs": [
        {
          "output_type": "execute_result",
          "data": {
            "text/html": [
              "<div>\n",
              "<style scoped>\n",
              "    .dataframe tbody tr th:only-of-type {\n",
              "        vertical-align: middle;\n",
              "    }\n",
              "\n",
              "    .dataframe tbody tr th {\n",
              "        vertical-align: top;\n",
              "    }\n",
              "\n",
              "    .dataframe thead th {\n",
              "        text-align: right;\n",
              "    }\n",
              "</style>\n",
              "<table border=\"1\" class=\"dataframe\">\n",
              "  <thead>\n",
              "    <tr style=\"text-align: right;\">\n",
              "      <th></th>\n",
              "      <th>title</th>\n",
              "      <th>year</th>\n",
              "      <th>genre</th>\n",
              "      <th>authors</th>\n",
              "      <th>ratings</th>\n",
              "      <th>isbn</th>\n",
              "      <th>ratingCount</th>\n",
              "    </tr>\n",
              "  </thead>\n",
              "  <tbody>\n",
              "    <tr>\n",
              "      <th>0</th>\n",
              "      <td>The Hunger Games</td>\n",
              "      <td>2008</td>\n",
              "      <td>[/genres/young-adult|, /genres/fiction|, /genr...</td>\n",
              "      <td>[https://www.goodreads.com/author/show/153394....</td>\n",
              "      <td>[  4.32]</td>\n",
              "      <td>[9780439023481]</td>\n",
              "      <td>[6597683]</td>\n",
              "    </tr>\n",
              "    <tr>\n",
              "      <th>1</th>\n",
              "      <td>Harry Potter and the Order of the Phoenix</td>\n",
              "      <td>2003</td>\n",
              "      <td>[/genres/fantasy|, /genres/young-adult|, /genr...</td>\n",
              "      <td>[https://www.goodreads.com/author/show/1077326...</td>\n",
              "      <td>[  4.50]</td>\n",
              "      <td>[9780439358071]</td>\n",
              "      <td>[2612025]</td>\n",
              "    </tr>\n",
              "    <tr>\n",
              "      <th>2</th>\n",
              "      <td>To Kill a Mockingbird</td>\n",
              "      <td>1960</td>\n",
              "      <td>[/genres/classics|, /genres/fiction|, /genres/...</td>\n",
              "      <td>[https://www.goodreads.com/author/show/1825.Ha...</td>\n",
              "      <td>[  4.28]</td>\n",
              "      <td>[]</td>\n",
              "      <td>[4679544]</td>\n",
              "    </tr>\n",
              "    <tr>\n",
              "      <th>3</th>\n",
              "      <td>Pride and Prejudice</td>\n",
              "      <td>1813</td>\n",
              "      <td>[/genres/classics|, /genres/fiction|, /genres/...</td>\n",
              "      <td>[https://www.goodreads.com/author/show/1265.Ja...</td>\n",
              "      <td>[  4.27]</td>\n",
              "      <td>[]</td>\n",
              "      <td>[3113658]</td>\n",
              "    </tr>\n",
              "    <tr>\n",
              "      <th>4</th>\n",
              "      <td>Twilight</td>\n",
              "      <td>2005</td>\n",
              "      <td>[/genres/young-adult|, /genres/fantasy|, /genr...</td>\n",
              "      <td>[https://www.goodreads.com/author/show/941441....</td>\n",
              "      <td>[  3.61]</td>\n",
              "      <td>[9780316015844]</td>\n",
              "      <td>[5138241]</td>\n",
              "    </tr>\n",
              "  </tbody>\n",
              "</table>\n",
              "</div>"
            ],
            "text/plain": [
              "                                       title  year  ...             isbn ratingCount\n",
              "0                           The Hunger Games  2008  ...  [9780439023481]   [6597683]\n",
              "1  Harry Potter and the Order of the Phoenix  2003  ...  [9780439358071]   [2612025]\n",
              "2                      To Kill a Mockingbird  1960  ...               []   [4679544]\n",
              "3                        Pride and Prejudice  1813  ...               []   [3113658]\n",
              "4                                   Twilight  2005  ...  [9780316015844]   [5138241]\n",
              "\n",
              "[5 rows x 7 columns]"
            ]
          },
          "metadata": {
            "tags": []
          },
          "execution_count": 19
        }
      ]
    },
    {
      "cell_type": "code",
      "metadata": {
        "id": "TQZTu-6jqxh_"
      },
      "source": [
        "df.to_csv(\"Goodreads.csv\", index=False, header=True)"
      ],
      "execution_count": 20,
      "outputs": []
    },
    {
      "cell_type": "markdown",
      "metadata": {
        "id": "jmBnXSeerGSU"
      },
      "source": [
        "### Loading and examining the data"
      ]
    },
    {
      "cell_type": "code",
      "metadata": {
        "colab": {
          "base_uri": "https://localhost:8080/",
          "height": 279
        },
        "id": "ta1cu5khrRPQ",
        "outputId": "ae57977c-170e-4f08-ff83-ba4b48a3f698"
      },
      "source": [
        "#Read the data into a dataframe\r\n",
        "df = pd.read_csv(\"Goodreads.csv\")\r\n",
        "df.head()"
      ],
      "execution_count": 23,
      "outputs": [
        {
          "output_type": "execute_result",
          "data": {
            "text/html": [
              "<div>\n",
              "<style scoped>\n",
              "    .dataframe tbody tr th:only-of-type {\n",
              "        vertical-align: middle;\n",
              "    }\n",
              "\n",
              "    .dataframe tbody tr th {\n",
              "        vertical-align: top;\n",
              "    }\n",
              "\n",
              "    .dataframe thead th {\n",
              "        text-align: right;\n",
              "    }\n",
              "</style>\n",
              "<table border=\"1\" class=\"dataframe\">\n",
              "  <thead>\n",
              "    <tr style=\"text-align: right;\">\n",
              "      <th></th>\n",
              "      <th>title</th>\n",
              "      <th>year</th>\n",
              "      <th>genre</th>\n",
              "      <th>authors</th>\n",
              "      <th>ratings</th>\n",
              "      <th>isbn</th>\n",
              "      <th>ratingCount</th>\n",
              "    </tr>\n",
              "  </thead>\n",
              "  <tbody>\n",
              "    <tr>\n",
              "      <th>0</th>\n",
              "      <td>The Hunger Games</td>\n",
              "      <td>2008</td>\n",
              "      <td>['/genres/young-adult|', '/genres/fiction|', '...</td>\n",
              "      <td>['https://www.goodreads.com/author/show/153394...</td>\n",
              "      <td>['  4.32']</td>\n",
              "      <td>['9780439023481']</td>\n",
              "      <td>['6597683']</td>\n",
              "    </tr>\n",
              "    <tr>\n",
              "      <th>1</th>\n",
              "      <td>Harry Potter and the Order of the Phoenix</td>\n",
              "      <td>2003</td>\n",
              "      <td>['/genres/fantasy|', '/genres/young-adult|', '...</td>\n",
              "      <td>['https://www.goodreads.com/author/show/107732...</td>\n",
              "      <td>['  4.50']</td>\n",
              "      <td>['9780439358071']</td>\n",
              "      <td>['2612025']</td>\n",
              "    </tr>\n",
              "    <tr>\n",
              "      <th>2</th>\n",
              "      <td>To Kill a Mockingbird</td>\n",
              "      <td>1960</td>\n",
              "      <td>['/genres/classics|', '/genres/fiction|', '/ge...</td>\n",
              "      <td>['https://www.goodreads.com/author/show/1825.H...</td>\n",
              "      <td>['  4.28']</td>\n",
              "      <td>[]</td>\n",
              "      <td>['4679544']</td>\n",
              "    </tr>\n",
              "    <tr>\n",
              "      <th>3</th>\n",
              "      <td>Pride and Prejudice</td>\n",
              "      <td>1813</td>\n",
              "      <td>['/genres/classics|', '/genres/fiction|', '/ge...</td>\n",
              "      <td>['https://www.goodreads.com/author/show/1265.J...</td>\n",
              "      <td>['  4.27']</td>\n",
              "      <td>[]</td>\n",
              "      <td>['3113658']</td>\n",
              "    </tr>\n",
              "    <tr>\n",
              "      <th>4</th>\n",
              "      <td>Twilight</td>\n",
              "      <td>2005</td>\n",
              "      <td>['/genres/young-adult|', '/genres/fantasy|', '...</td>\n",
              "      <td>['https://www.goodreads.com/author/show/941441...</td>\n",
              "      <td>['  3.61']</td>\n",
              "      <td>['9780316015844']</td>\n",
              "      <td>['5138241']</td>\n",
              "    </tr>\n",
              "  </tbody>\n",
              "</table>\n",
              "</div>"
            ],
            "text/plain": [
              "                                       title  year                                              genre                                            authors     ratings               isbn  ratingCount\n",
              "0                           The Hunger Games  2008  ['/genres/young-adult|', '/genres/fiction|', '...  ['https://www.goodreads.com/author/show/153394...  ['  4.32']  ['9780439023481']  ['6597683']\n",
              "1  Harry Potter and the Order of the Phoenix  2003  ['/genres/fantasy|', '/genres/young-adult|', '...  ['https://www.goodreads.com/author/show/107732...  ['  4.50']  ['9780439358071']  ['2612025']\n",
              "2                      To Kill a Mockingbird  1960  ['/genres/classics|', '/genres/fiction|', '/ge...  ['https://www.goodreads.com/author/show/1825.H...  ['  4.28']                 []  ['4679544']\n",
              "3                        Pride and Prejudice  1813  ['/genres/classics|', '/genres/fiction|', '/ge...  ['https://www.goodreads.com/author/show/1265.J...  ['  4.27']                 []  ['3113658']\n",
              "4                                   Twilight  2005  ['/genres/young-adult|', '/genres/fantasy|', '...  ['https://www.goodreads.com/author/show/941441...  ['  3.61']  ['9780316015844']  ['5138241']"
            ]
          },
          "metadata": {
            "tags": []
          },
          "execution_count": 23
        }
      ]
    },
    {
      "cell_type": "code",
      "metadata": {
        "id": "rY-8IUCZrZHy"
      },
      "source": [
        ""
      ],
      "execution_count": null,
      "outputs": []
    }
  ]
}